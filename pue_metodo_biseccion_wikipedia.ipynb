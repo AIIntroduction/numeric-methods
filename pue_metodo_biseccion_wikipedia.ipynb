{
  "cells": [
    {
      "cell_type": "markdown",
      "metadata": {
        "id": "2KCdaMhbnyfj"
      },
      "source": [
        "Primero declaraciones y raíces del polinomio."
      ]
    },
    {
      "cell_type": "code",
      "execution_count": null,
      "metadata": {
        "id": "EPZPtnEmRY8V"
      },
      "outputs": [],
      "source": [
        "# Declaraciones habituales para trabajar con métodos numéricos\n",
        "# Matplotlib es para dibujar gráficas\n",
        "import matplotlib.pyplot as plt\n",
        "import numpy as np\n",
        "\n",
        "# Una forma de hallar las raíces de un polinomio (este paso no es necesario)\n",
        "polinomio = np.polynomial.Polynomial([1, 4, -16, 3, 3]) # el polinomio\n",
        "print(polinomio) # lo mostramos\n",
        "raices = polinomio.roots() # hallamos las raíces\n",
        "print(raices) # las mostramos"
      ]
    },
    {
      "cell_type": "markdown",
      "metadata": {
        "id": "LFtRkbU_ohWf"
      },
      "source": [
        "Una gráfica que muestre la función de una forma global."
      ]
    },
    {
      "cell_type": "code",
      "execution_count": null,
      "metadata": {
        "id": "1a1C--Luo5C4"
      },
      "outputs": [],
      "source": [
        "# Gráfica que muestra la forma\n",
        "# se define una colección de puntos para las Xs,\n",
        "# de -5 a 5, con una separación de 0.1 entre cada punto\n",
        "x = np.arange(-5, 5, 0.1) \n",
        "# Ahora los valores correspondientes para las Ys\n",
        "y = 3*x**4 + 3*x**3 - 16*x**2 + 4*x + 1 \n",
        "# Dibujamos rejilla\n",
        "plt.grid()\n",
        "# Dibujamos la función\n",
        "plt.plot(x, y)\n",
        "# La mostramos\n",
        "plt.show()\n",
        "# Vemos que crece muy rápido, lógico en un polinomio de ese grado"
      ]
    },
    {
      "cell_type": "markdown",
      "metadata": {
        "id": "sdwFKM4Jm-On"
      },
      "source": [
        "Ahora una gráfica que muestre todas las raíces, pero más cerca."
      ]
    },
    {
      "cell_type": "code",
      "execution_count": null,
      "metadata": {
        "id": "364SMBPHn88B"
      },
      "outputs": [],
      "source": [
        "# Ahora un gráfica que muestre todas la raíces más cerca\n",
        "x = np.arange(-3, 2, 0.1)\n",
        "y = 3*x**4 + 3*x**3 - 16*x**2 + 4*x + 1 \n",
        "plt.grid()\n",
        "plt.plot(x, y)\n",
        "plt.show()"
      ]
    },
    {
      "cell_type": "markdown",
      "metadata": {
        "id": "szWEI4JnqJVz"
      },
      "source": [
        "Se pueden ver los puntos de corte con el eje x, las raíces del polinomio. Se puede comprobar que coinciden aproximadamente con las raíces calculadas previamente. En la siguiente mostramos sólo 2 puntos de corte, con la que se puede apreciar algunos de los intervalos iniciales que se deben utilizar."
      ]
    },
    {
      "cell_type": "code",
      "execution_count": null,
      "metadata": {
        "id": "si4sv7ZGS7SF"
      },
      "outputs": [],
      "source": [
        "# Reducimos el intervalo y hallamos los nuevos valores de y\n",
        "x = np.arange(-0.2,0.6,0.01)\n",
        "y = 3*x**4 + 3*x**3 - 16*x**2 + 4*x + 1 \n",
        "plt.grid()\n",
        "plt.plot(x,y)\n",
        "plt.show()"
      ]
    },
    {
      "cell_type": "markdown",
      "metadata": {
        "id": "K2Tj4w9_Zxtt"
      },
      "source": [
        "Definimos la función con la que realizar los cálculos numéricos para hallar la raíz, mediante el método de la bisección. Es una implementación casi literal del algoritmo en pseudocódigo que aparece en la Wikipedia. El nombre del autor del ejercicio también se podría poner aquí."
      ]
    },
    {
      "cell_type": "code",
      "execution_count": null,
      "metadata": {
        "id": "BzAJ64b5WPzt"
      },
      "outputs": [],
      "source": [
        "def biseccion(f, a, b, tolerancia, maximo_iteraciones):\n",
        "  # Implementación de Manuel Fungueiro\n",
        "  # f es la funcion, a y b son los extremos del intervalo,\n",
        "  # la tolerancia será el error máximo permitido y con la variable\n",
        "  # maximo_iteraciones impediremos que el bucle y el algoritmo\n",
        "  # se ejecuten durante un tiempo excesivo\n",
        "  # Supondremos que se cumplen las condiciones impuestas en el algoritmo.\n",
        "  # Otra opción sería comprobarlas y actuar en consecuencia\n",
        "  n = 1\n",
        "  while n <= maximo_iteraciones: # mientras no se supere el máximo de iter. \n",
        "    c = (a + b)/2 # hallamos un nuevo punto medio del intervalo\n",
        "    # si el valor de la función en el punto medio es 0 ó\n",
        "    # la longitud de la mitad del intervalo es menor que la tolerancia,\n",
        "    # es decir, el error de la solución es menor que el solicitado\n",
        "    if f(c) == 0 or (b-a)/2 < tolerancia: \n",
        "      return c # se devuelve c, el punto medio y se sale del método\n",
        "    n = n + 1  # se incrementa el número de iteraciones en 1\n",
        "    if np.sign(f(c)) == np.sign(f(a)): # si el signo de f(c) es igual a f(a)\n",
        "      a = c # el nuevo valor de a es c, ya que reduce el intervalo con la raíz\n",
        "    else:   # en caso contrario, será igual al signo de f(b)\n",
        "      b = c # el nuevo valor de b es c, se recorta por la derecha el intervalo\n",
        "  # Si no tiene éxito el método escribimos un mensaje\n",
        "  print(\"El método ha fallado\")\n",
        "  # Devolvemos None o numpy.nan; es bastante discutible cuál emplear pero \n",
        "  # básicamente significa que no hay resultado válido\n",
        "  return np.nan\n"
      ]
    },
    {
      "cell_type": "markdown",
      "metadata": {
        "id": "QtYfAd9wheo-"
      },
      "source": [
        "Ahora utilizamos la función para hallar una de las raíces, por ejemplo, la situada en el intervalo [0.4,0.5], y pondremos una tolerancia para que aproxime al menos unos 4 digitos decimales correctamente."
      ]
    },
    {
      "cell_type": "code",
      "execution_count": null,
      "metadata": {
        "id": "2xqBcWRHiCdp"
      },
      "outputs": [],
      "source": [
        "# Definimos la función sobre la que calculamos la raíz\n",
        "# En este caso utilizaremos el polinomio del que cargamos la gráfica previamente\n",
        "# Lo hacemos como una función lambda\n",
        "funcion = lambda x: 3*x**4 + 3*x**3 - 16*x**2 + 4*x + 1\n",
        "# Llamamos al método con los argumentos adecuados y recogemos el resultado\n",
        "raiz = biseccion(funcion, 0.4, 0.5, 0.00001, 20)\n",
        "# Mostramos el resultado\n",
        "print(raiz)\n",
        "print(\"Ejecución de Jesús Martínez Herrero para el curso de introducción a la inteligencia aritificial.\")"
      ]
    },
    {
      "cell_type": "markdown",
      "metadata": {
        "id": "0x6PouKfrYCH"
      },
      "source": [
        "Se puede comprobar que el resultado es correcto y es una de las raíces calculadas inicialmente. Se podría fácilmente modicar el cálculo para cualquier otra raíz del polinomio."
      ]
    }
  ],
  "metadata": {
    "colab": {
      "collapsed_sections": [],
      "name": "pue_metodo_biseccion_wikipedia.ipynb",
      "provenance": []
    },
    "kernelspec": {
      "display_name": "Python 3",
      "name": "python3"
    },
    "language_info": {
      "name": "python"
    }
  },
  "nbformat": 4,
  "nbformat_minor": 0
}
